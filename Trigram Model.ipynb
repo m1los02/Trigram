{
 "cells": [
  {
   "cell_type": "markdown",
   "id": "900051e7",
   "metadata": {},
   "source": [
    "# makemore: bigram exercises\n",
    "-----\n",
    " Exercises\n",
    "----\n",
    "1. Train a [**trigram**](#1) language model, i.e. take two characters as an input to predict the 3rd one. Feel free to use either [counting](#1a) or a [neural net](#1b). Evaluate the loss; Did it improve over a **bigram** model?\n",
    "2. [Split up the dataset](#2) randomly into <u>80% train set, 10% dev set, 10% test set</u>. Train the bigram and trigram models only on the training set. Evaluate them on dev and test splits. What can you see?\n",
    "3. Use the <u>[dev set to tune the strength of smoothing (or regularization)](#3)</u> for the trigram model - i.e. try many possibilities and see which one works best based on the dev set loss. What patterns can you see in the train and dev set loss as you tune this strength? Take the best setting of the smoothing and evaluate on the test set once and at the end. How good of a loss do you achieve?\n",
    "4. We saw that our 1-hot vectors merely select a row of `W`, so producing these vectors explicitly feels wasteful. Can you delete our use of `F.one_hot` in favor of [simply indexing into rows of `W`](#4)?\n",
    "5. [Look up and use `F.cross_entropy` instead](#5). You should achieve the same result. Can you think of why we'd prefer to use `F.cross_entropy` instead?\n",
    "6. [Meta-exercise!](#6) Think of a fun/interesting exercise and complete it."
   ]
  },
  {
   "cell_type": "code",
   "execution_count": 303,
   "id": "634e417b",
   "metadata": {},
   "outputs": [],
   "source": [
    "import torch\n",
    "import torch.nn.functional as F\n",
    "from sklearn.model_selection import train_test_split\n",
    "import matplotlib.pyplot as plt"
   ]
  },
  {
   "cell_type": "markdown",
   "id": "25527089",
   "metadata": {},
   "source": [
    "# 1. Trigram Model"
   ]
  },
  {
   "cell_type": "markdown",
   "id": "9dfa0262",
   "metadata": {},
   "source": [
    "## 1.1. Counting approach"
   ]
  },
  {
   "cell_type": "code",
   "execution_count": 189,
   "id": "3bff2c2c",
   "metadata": {},
   "outputs": [],
   "source": [
    "names = open('names.txt', 'r').read().splitlines()"
   ]
  },
  {
   "cell_type": "code",
   "execution_count": 190,
   "id": "350ab2f5",
   "metadata": {},
   "outputs": [],
   "source": [
    "letters = sorted(list(set(''.join(names))))\n",
    "stoi = {letter:i+1 for i,letter in enumerate(letters)}\n",
    "stoi['.'] = 0\n",
    "itos = {i:s for s,i in stoi.items()}\n",
    "N = torch.zeros((27, 27, 27), dtype=torch.int32)"
   ]
  },
  {
   "cell_type": "code",
   "execution_count": 191,
   "id": "9e1b40e9",
   "metadata": {},
   "outputs": [],
   "source": [
    "for name in names:\n",
    "    chs = ['.', '.'] + list(name) + ['.']\n",
    "    for ch1, ch2, ch3 in zip(chs, chs[1:], chs[2:]):\n",
    "        ix1 = stoi[ch1]\n",
    "        ix2 = stoi[ch2]        \n",
    "        ix3 = stoi[ch3]\n",
    "        N[ix1, ix2, ix3] += 1       "
   ]
  },
  {
   "cell_type": "code",
   "execution_count": 193,
   "id": "22d3281a",
   "metadata": {},
   "outputs": [],
   "source": [
    "P = (N+1).float()\n",
    "P /= P.sum(dim=2, keepdim=True)"
   ]
  },
  {
   "cell_type": "code",
   "execution_count": 194,
   "id": "8295a785",
   "metadata": {},
   "outputs": [
    {
     "name": "stdout",
     "output_type": "stream",
     "text": [
      "junide.\n",
      "jakasid.\n",
      "prelay.\n",
      "adin.\n",
      "kairritoper.\n",
      "sathen.\n",
      "sameia.\n",
      "yanileniassibduinrwin.\n",
      "lessiyanayla.\n",
      "te.\n"
     ]
    }
   ],
   "source": [
    "g = torch.Generator().manual_seed(2147483647)\n",
    "for i in range(10):\n",
    "    p_temp = P_first[0]\n",
    "    out = []\n",
    "    ix1 = 0\n",
    "    ix2 = 0\n",
    "    while True:\n",
    "        ix3 = torch.multinomial(P[ix1, ix2], num_samples=1, replacement = True, generator = g).item()\n",
    "        out.append(itos[ix3])\n",
    "        if ix3 == 0:\n",
    "            break\n",
    "        ix1 = ix2\n",
    "        ix2 = ix3\n",
    "    print(''.join(out))"
   ]
  },
  {
   "cell_type": "code",
   "execution_count": 195,
   "id": "1ac79b57",
   "metadata": {},
   "outputs": [
    {
     "name": "stdout",
     "output_type": "stream",
     "text": [
      "Average negative log likelihood is 2.09275\n"
     ]
    }
   ],
   "source": [
    "nll = 0\n",
    "n = 0\n",
    "for name in names:\n",
    "    chs = ['.'] + list(name) + ['.']\n",
    "    for ch1, ch2, ch3 in zip(chs, chs[1:], chs[2:]):\n",
    "        ix1 = stoi[ch1]\n",
    "        ix2 = stoi[ch2]        \n",
    "        ix3 = stoi[ch3]\n",
    "        nll -= P[ix1, ix2, ix3].log()\n",
    "        n += 1\n",
    "\n",
    "print(f'Average negative log likelihood is {nll/n:.5f}')"
   ]
  },
  {
   "cell_type": "markdown",
   "id": "65567987",
   "metadata": {},
   "source": [
    "## 1.2 Neural Network"
   ]
  },
  {
   "cell_type": "code",
   "execution_count": 325,
   "id": "75a492da",
   "metadata": {},
   "outputs": [],
   "source": [
    "xs = []\n",
    "ys = []\n",
    "\n",
    "for name in names:\n",
    "    chs = ['.', '.'] + list(name) + ['.']\n",
    "    for ch1, ch2, ch3 in zip(chs, chs[1:], chs[2:]):\n",
    "        xs.append((stoi[ch1], stoi[ch2]))\n",
    "        ys.append(stoi[ch3])\n",
    "xs = torch.tensor(xs) \n",
    "ys = torch.tensor(ys)\n",
    "num = ys.nelement()"
   ]
  },
  {
   "cell_type": "code",
   "execution_count": 326,
   "id": "0a7bca46",
   "metadata": {},
   "outputs": [
    {
     "name": "stdout",
     "output_type": "stream",
     "text": [
      "tensor(2.3682, grad_fn=<AddBackward0>)\n",
      "tensor(2.3918, grad_fn=<AddBackward0>)\n",
      "tensor(2.3779, grad_fn=<AddBackward0>)\n",
      "tensor(2.4282, grad_fn=<AddBackward0>)\n",
      "tensor(2.3680, grad_fn=<AddBackward0>)\n",
      "tensor(2.3916, grad_fn=<AddBackward0>)\n",
      "tensor(2.3777, grad_fn=<AddBackward0>)\n",
      "tensor(2.4280, grad_fn=<AddBackward0>)\n",
      "tensor(2.3678, grad_fn=<AddBackward0>)\n",
      "tensor(2.3915, grad_fn=<AddBackward0>)\n"
     ]
    }
   ],
   "source": [
    "epochs = 250\n",
    "lr = 50\n",
    "alpha = 0\n",
    "g = torch.Generator().manual_seed(2147483647)\n",
    "W = torch.randn((54, 27), generator=g, requires_grad=True)\n",
    "xenc = F.one_hot(xs, num_classes=27).float()\n",
    "xenc = torch.hstack((xenc[:,0,:], xenc[:,1,:]))\n",
    "for i in range(epochs):\n",
    "    logits = xenc @ W\n",
    "    count = logits.exp()\n",
    "    probs = count / count.sum(dim=1, keepdim=True)\n",
    "    loss = -probs[torch.arange(num), ys].log().mean() + alpha*(W**2).mean()\n",
    "    \n",
    "    W.grad = None # set to zero the gradient\n",
    "    loss.backward()\n",
    "\n",
    "    # update\n",
    "    W.data += -lr * W.grad\n",
    "    if i >= epochs-10:\n",
    "        print(loss)"
   ]
  },
  {
   "cell_type": "code",
   "execution_count": 327,
   "id": "7fe82ef9",
   "metadata": {},
   "outputs": [
    {
     "name": "stdout",
     "output_type": "stream",
     "text": [
      "juwide.\n",
      "janasad.\n",
      "alen.\n",
      "amainn.\n",
      "kai.\n",
      "ritoleras.\n",
      "tee.\n",
      "adannaauranileniassibdainrwi.\n",
      "ta.\n",
      "saisiely.\n",
      "arte.\n",
      "farmurthafontumer.\n",
      "fans.\n",
      "jah.\n",
      "jayl.\n"
     ]
    }
   ],
   "source": [
    "g = torch.Generator().manual_seed(2147483647)\n",
    "\n",
    "for i in range(15):\n",
    "    out = []\n",
    "    ix1, ix2 = 0, 0\n",
    "    while True:\n",
    "        xenc = F.one_hot(torch.tensor([ix1, ix2]), num_classes=27).reshape(1, -1).float()\n",
    "        logits = xenc @ W\n",
    "        count = logits.exp()\n",
    "        probs = count / count.sum(dim=1, keepdim=True)\n",
    "        \n",
    "        ix3 = torch.multinomial(probs.flatten(), num_samples=1, replacement=True, generator=g).item()\n",
    "        out.append(itos[ix3])\n",
    "        if ix3 == 0:\n",
    "            break\n",
    "        ix1 = ix2\n",
    "        ix2 = ix3\n",
    "    print(''.join(out))"
   ]
  },
  {
   "cell_type": "markdown",
   "id": "7a2b957c",
   "metadata": {},
   "source": [
    "# 2. Train the bigram and trigram models only on the training set. Evaluate them on dev and test splits."
   ]
  },
  {
   "cell_type": "code",
   "execution_count": 328,
   "id": "ecf11ddf",
   "metadata": {},
   "outputs": [],
   "source": [
    "x_train, x_rest, y_train, y_rest = train_test_split(xs.numpy(), ys.numpy(), train_size=0.8)\n",
    "x_val, x_test, y_val, y_test = train_test_split(x_rest, y_rest, train_size=0.5)\n",
    "\n",
    "x_train, y_train = torch.tensor(x_train), torch.tensor(y_train)\n",
    "x_val, y_val = torch.tensor(x_val), torch.tensor(y_val)\n",
    "x_test, y_test = torch.tensor(x_test), torch.tensor(y_test)"
   ]
  },
  {
   "cell_type": "code",
   "execution_count": 329,
   "id": "b3c05d60",
   "metadata": {},
   "outputs": [
    {
     "name": "stdout",
     "output_type": "stream",
     "text": [
      "tensor(2.3637, grad_fn=<AddBackward0>)\n",
      "tensor(2.3569, grad_fn=<AddBackward0>)\n",
      "tensor(2.3635, grad_fn=<AddBackward0>)\n",
      "tensor(2.3568, grad_fn=<AddBackward0>)\n",
      "tensor(2.3634, grad_fn=<AddBackward0>)\n",
      "tensor(2.3567, grad_fn=<AddBackward0>)\n",
      "tensor(2.3633, grad_fn=<AddBackward0>)\n",
      "tensor(2.3566, grad_fn=<AddBackward0>)\n",
      "tensor(2.3632, grad_fn=<AddBackward0>)\n",
      "tensor(2.3564, grad_fn=<AddBackward0>)\n"
     ]
    }
   ],
   "source": [
    "epochs = 250\n",
    "lr = 40\n",
    "alpha = 0\n",
    "g = torch.Generator().manual_seed(2147483647)\n",
    "num = y_train.numel()\n",
    "W = torch.randn((54, 27), generator=g, requires_grad=True)\n",
    "xenc = F.one_hot(x_train, num_classes=27).float()\n",
    "xenc = torch.hstack((xenc[:,0,:], xenc[:,1,:]))\n",
    "for i in range(epochs):\n",
    "    logits = xenc @ W\n",
    "    count = logits.exp()\n",
    "    probs = count / count.sum(dim=1, keepdim=True)\n",
    "    loss = -probs[torch.arange(num), y_train].log().mean() + alpha*(W**2).mean()\n",
    "    \n",
    "    W.grad = None # set to zero the gradient\n",
    "    loss.backward()\n",
    "\n",
    "    # update\n",
    "    W.data += -lr * W.grad\n",
    "    if i >= epochs-10:\n",
    "        print(loss)"
   ]
  },
  {
   "cell_type": "code",
   "execution_count": 330,
   "id": "9b130bc5",
   "metadata": {},
   "outputs": [],
   "source": [
    "xenc_val = F.one_hot(x_val, num_classes=27).float()\n",
    "xenc_val = torch.hstack((xenc_val[:,0,:], xenc_val[:,1,:]))\n",
    "num_val = y_val.numel()\n",
    "\n",
    "xenc_test = F.one_hot(x_test, num_classes=27).float()\n",
    "xenc_test = torch.hstack((xenc_test[:,0,:], xenc_test[:,1,:]))\n",
    "num_test = y_test.numel()"
   ]
  },
  {
   "cell_type": "code",
   "execution_count": 331,
   "id": "f1a763a2",
   "metadata": {},
   "outputs": [
    {
     "name": "stdout",
     "output_type": "stream",
     "text": [
      "Loss on validation (dev) set is 2.37060\n"
     ]
    }
   ],
   "source": [
    "logits = xenc_val @ W\n",
    "count = logits.exp()\n",
    "probs = count / count.sum(dim=1, keepdim=True)\n",
    "loss = -probs[torch.arange(num_val), y_val].log().mean() + alpha*(W**2).mean()\n",
    "print(f'Loss on validation (dev) set is {loss:.5f}')"
   ]
  },
  {
   "cell_type": "code",
   "execution_count": 332,
   "id": "96f645f0",
   "metadata": {},
   "outputs": [
    {
     "name": "stdout",
     "output_type": "stream",
     "text": [
      "Loss on test set is 2.37644\n"
     ]
    }
   ],
   "source": [
    "logits = xenc_test @ W\n",
    "count = logits.exp()\n",
    "probs = count / count.sum(dim=1, keepdim=True)\n",
    "loss = -probs[torch.arange(num_test), y_test].log().mean() + alpha*(W**2).mean()\n",
    "print(f'Loss on test set is {loss:.5f}')"
   ]
  },
  {
   "cell_type": "markdown",
   "id": "1fb72dbe",
   "metadata": {},
   "source": [
    "Loss is larger on Test and dev sets."
   ]
  },
  {
   "cell_type": "markdown",
   "id": "a0ac0ebb",
   "metadata": {},
   "source": [
    "### Regularization"
   ]
  },
  {
   "cell_type": "code",
   "execution_count": 333,
   "id": "2b94c1b6",
   "metadata": {},
   "outputs": [
    {
     "data": {
      "text/plain": [
       "tensor([0.0000, 0.0100, 0.0200, 0.0300, 0.0400, 0.0500, 0.0600, 0.0700, 0.0800,\n",
       "        0.0900, 0.1000])"
      ]
     },
     "execution_count": 333,
     "metadata": {},
     "output_type": "execute_result"
    }
   ],
   "source": [
    "loss_train = []\n",
    "loss_val = []\n",
    "alphas = torch.linspace(0, 0.1, 11)\n",
    "alphas"
   ]
  },
  {
   "cell_type": "code",
   "execution_count": 334,
   "id": "439c5e02",
   "metadata": {},
   "outputs": [],
   "source": [
    "W = torch.randn((54, 27), generator=g, requires_grad=True)\n",
    "for alpha in alphas:\n",
    "    alpha = alpha.item()\n",
    "    epochs = 250\n",
    "    lr = 50\n",
    "    g = torch.Generator().manual_seed(2147483647)\n",
    "    num = y_train.numel()\n",
    "    xenc = F.one_hot(x_train, num_classes=27).float()\n",
    "    xenc = torch.hstack((xenc[:,0,:], xenc[:,1,:]))\n",
    "    for i in range(epochs):\n",
    "        logits = xenc @ W\n",
    "        count = logits.exp()\n",
    "        probs = count / count.sum(dim=1, keepdim=True)\n",
    "        loss = -probs[torch.arange(num), y_train].log().mean() + alpha*(W**2).mean()\n",
    "        W.grad = None\n",
    "        loss.backward()\n",
    "        W.data += -lr * W.grad\n",
    "        \n",
    "    loss_train.append(loss.item())\n",
    "\n",
    "    logits = xenc_val @ W\n",
    "    count = logits.exp()\n",
    "    probs = count / count.sum(dim=1, keepdim=True)\n",
    "    loss = -probs[torch.arange(num_val), y_val].log().mean() + alpha*(W**2).mean()\n",
    "    loss_val.append(loss.item())"
   ]
  },
  {
   "cell_type": "code",
   "execution_count": 335,
   "id": "7f2cbe10",
   "metadata": {},
   "outputs": [
    {
     "data": {
      "text/plain": [
       "Text(0, 0.5, 'loss')"
      ]
     },
     "execution_count": 335,
     "metadata": {},
     "output_type": "execute_result"
    },
    {
     "data": {
      "image/png": "[encoded data removed]",
      "text/plain": [
       "<Figure size 640x480 with 1 Axes>"
      ]
     },
     "metadata": {},
     "output_type": "display_data"
    }
   ],
   "source": [
    "plt.figure()\n",
    "plt.plot(alphas, loss_train, marker='o')\n",
    "plt.plot(alphas, loss_val, marker='s')\n",
    "plt.legend(['train', 'dev'])\n",
    "plt.xlabel('alpha')\n",
    "plt.ylabel('loss')"
   ]
  },
  {
   "cell_type": "code",
   "execution_count": 338,
   "id": "c46e6bbd",
   "metadata": {},
   "outputs": [
    {
     "name": "stdout",
     "output_type": "stream",
     "text": [
      "tensor(2.3742, grad_fn=<AddBackward0>)\n",
      "tensor(2.3674, grad_fn=<AddBackward0>)\n",
      "tensor(2.3741, grad_fn=<AddBackward0>)\n",
      "tensor(2.3673, grad_fn=<AddBackward0>)\n",
      "tensor(2.3740, grad_fn=<AddBackward0>)\n",
      "tensor(2.3672, grad_fn=<AddBackward0>)\n",
      "tensor(2.3739, grad_fn=<AddBackward0>)\n",
      "tensor(2.3671, grad_fn=<AddBackward0>)\n",
      "tensor(2.3738, grad_fn=<AddBackward0>)\n",
      "tensor(2.3670, grad_fn=<AddBackward0>)\n"
     ]
    }
   ],
   "source": [
    "epochs = 250\n",
    "lr = 40\n",
    "alpha = 0.01\n",
    "g = torch.Generator().manual_seed(2147483647)\n",
    "num = y_train.numel()\n",
    "W = torch.randn((54, 27), generator=g, requires_grad=True)\n",
    "xenc = F.one_hot(x_train, num_classes=27).float()\n",
    "xenc = torch.hstack((xenc[:,0,:], xenc[:,1,:]))\n",
    "for i in range(epochs):\n",
    "    logits = xenc @ W\n",
    "    count = logits.exp()\n",
    "    probs = count / count.sum(dim=1, keepdim=True)\n",
    "    loss = -probs[torch.arange(num), y_train].log().mean() + alpha*(W**2).mean()\n",
    "    \n",
    "    W.grad = None # set to zero the gradient\n",
    "    loss.backward()\n",
    "\n",
    "    # update\n",
    "    W.data += -lr * W.grad\n",
    "    if i >= epochs-10:\n",
    "        print(loss)"
   ]
  },
  {
   "cell_type": "code",
   "execution_count": 339,
   "id": "c6f2f1bb",
   "metadata": {},
   "outputs": [
    {
     "name": "stdout",
     "output_type": "stream",
     "text": [
      "Loss on test set is 2.38692\n"
     ]
    }
   ],
   "source": [
    "logits = xenc_test @ W\n",
    "count = logits.exp()\n",
    "probs = count / count.sum(dim=1, keepdim=True)\n",
    "loss = -probs[torch.arange(num_test), y_test].log().mean() + alpha*(W**2).mean()\n",
    "print(f'Loss on test set is {loss:.5f}')"
   ]
  },
  {
   "cell_type": "markdown",
   "id": "7584d4a8",
   "metadata": {},
   "source": [
    "# 4. Getting rid of one hot encoding"
   ]
  },
  {
   "cell_type": "code",
   "execution_count": 355,
   "id": "35e1e396",
   "metadata": {},
   "outputs": [
    {
     "name": "stdout",
     "output_type": "stream",
     "text": [
      "tensor(2.3742, grad_fn=<AddBackward0>)\n",
      "tensor(2.3674, grad_fn=<AddBackward0>)\n",
      "tensor(2.3741, grad_fn=<AddBackward0>)\n",
      "tensor(2.3673, grad_fn=<AddBackward0>)\n",
      "tensor(2.3740, grad_fn=<AddBackward0>)\n",
      "tensor(2.3672, grad_fn=<AddBackward0>)\n",
      "tensor(2.3739, grad_fn=<AddBackward0>)\n",
      "tensor(2.3671, grad_fn=<AddBackward0>)\n",
      "tensor(2.3738, grad_fn=<AddBackward0>)\n",
      "tensor(2.3670, grad_fn=<AddBackward0>)\n"
     ]
    }
   ],
   "source": [
    "epochs = 250\n",
    "lr = 40\n",
    "alpha = 0.01\n",
    "g = torch.Generator().manual_seed(2147483647)\n",
    "num = y_train.numel()\n",
    "W = torch.randn((54, 27), generator=g, requires_grad=True)\n",
    "xsp = x_train + torch.tensor([0, 27]).reshape((1,2))\n",
    "for i in range(epochs):\n",
    "    logits = W[xsp].sum(dim=1)\n",
    "    count = logits.exp()\n",
    "    probs = count / count.sum(dim=1, keepdim=True)\n",
    "    loss = -probs[torch.arange(num), y_train].log().mean() + alpha*(W**2).mean()\n",
    "    \n",
    "    W.grad = None # set to zero the gradient\n",
    "    loss.backward()\n",
    "\n",
    "    # update\n",
    "    W.data += -lr * W.grad\n",
    "    if i >= epochs-10:\n",
    "        print(loss)"
   ]
  },
  {
   "cell_type": "code",
   "execution_count": 356,
   "id": "0c6d10b5",
   "metadata": {},
   "outputs": [
    {
     "name": "stdout",
     "output_type": "stream",
     "text": [
      "Loss on test set is 2.38694\n"
     ]
    }
   ],
   "source": [
    "xsp_test = x_test + torch.tensor([0, 27]).reshape((1,2))\n",
    "logits = W[xsp_test].sum(dim=1)\n",
    "count = logits.exp()\n",
    "probs = count / count.sum(dim=1, keepdim=True)\n",
    "loss = -probs[torch.arange(num_test), y_test].log().mean() + alpha*(W**2).mean()\n",
    "print(f'Loss on test set is {loss:.5f}')"
   ]
  },
  {
   "cell_type": "markdown",
   "id": "72a0bb50",
   "metadata": {},
   "source": [
    "# 5. F.cross_entropy()"
   ]
  },
  {
   "cell_type": "code",
   "execution_count": 359,
   "id": "2d4a63e5",
   "metadata": {},
   "outputs": [
    {
     "name": "stdout",
     "output_type": "stream",
     "text": [
      "tensor(2.3742, grad_fn=<AddBackward0>)\n",
      "tensor(2.3674, grad_fn=<AddBackward0>)\n",
      "tensor(2.3741, grad_fn=<AddBackward0>)\n",
      "tensor(2.3673, grad_fn=<AddBackward0>)\n",
      "tensor(2.3740, grad_fn=<AddBackward0>)\n",
      "tensor(2.3672, grad_fn=<AddBackward0>)\n",
      "tensor(2.3739, grad_fn=<AddBackward0>)\n",
      "tensor(2.3671, grad_fn=<AddBackward0>)\n",
      "tensor(2.3738, grad_fn=<AddBackward0>)\n",
      "tensor(2.3670, grad_fn=<AddBackward0>)\n"
     ]
    }
   ],
   "source": [
    "epochs = 250\n",
    "lr = 40\n",
    "alpha = 0.01\n",
    "g = torch.Generator().manual_seed(2147483647)\n",
    "num = y_train.numel()\n",
    "W = torch.randn((54, 27), generator=g, requires_grad=True)\n",
    "xsp = x_train + torch.tensor([0, 27]).reshape((1,2))\n",
    "for i in range(epochs):\n",
    "    logits = W[xsp].sum(dim=1)\n",
    "    loss = F.cross_entropy(logits, y_train) + alpha * (W**2).mean()\n",
    "    \n",
    "    W.grad = None # set to zero the gradient\n",
    "    loss.backward()\n",
    "\n",
    "    # update\n",
    "    W.data += -lr * W.grad\n",
    "    if i >= epochs-10:\n",
    "        print(loss)\n"
   ]
  },
  {
   "cell_type": "code",
   "execution_count": 360,
   "id": "9ffd922b",
   "metadata": {},
   "outputs": [
    {
     "name": "stdout",
     "output_type": "stream",
     "text": [
      "Loss on test set is 2.38695\n"
     ]
    }
   ],
   "source": [
    "logits = xenc_test @ W\n",
    "loss = F.cross_entropy(logits, y_test) + alpha * (W**2).mean()\n",
    "print(f'Loss on test set is {loss:.5f}')"
   ]
  }
 ],
 "metadata": {
  "kernelspec": {
   "display_name": "Python 3 (ipykernel)",
   "language": "python",
   "name": "python3"
  },
  "language_info": {
   "codemirror_mode": {
    "name": "ipython",
    "version": 3
   },
   "file_extension": ".py",
   "mimetype": "text/x-python",
   "name": "python",
   "nbconvert_exporter": "python",
   "pygments_lexer": "ipython3",
   "version": "3.10.15"
  }
 },
 "nbformat": 4,
 "nbformat_minor": 5
}
